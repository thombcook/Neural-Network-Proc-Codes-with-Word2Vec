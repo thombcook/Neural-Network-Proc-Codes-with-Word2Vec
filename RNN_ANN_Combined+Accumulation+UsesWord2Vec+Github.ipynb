{
 "cells": [
  {
   "cell_type": "code",
   "execution_count": 1,
   "metadata": {},
   "outputs": [
    {
     "name": "stderr",
     "output_type": "stream",
     "text": [
      "C:\\Users\\thomb\\Anaconda3\\lib\\site-packages\\gensim\\utils.py:1197: UserWarning: detected Windows; aliasing chunkize to chunkize_serial\n",
      "  warnings.warn(\"detected Windows; aliasing chunkize to chunkize_serial\")\n"
     ]
    }
   ],
   "source": [
    "from gensim.models.word2vec import Word2Vec\n",
    "import pandas as pd \n",
    "import numpy as np\n",
    "import os\n",
    "import nltk\n",
    "from gensim.models import FastText\n",
    "  "
   ]
  },
  {
   "cell_type": "code",
   "execution_count": 2,
   "metadata": {
    "collapsed": true
   },
   "outputs": [],
   "source": [
    "#load the pretrained word embedding model. \n",
    "model_embedder = Word2Vec.load('MPHC_word_embedding.w2v')"
   ]
  },
  {
   "cell_type": "code",
   "execution_count": 22,
   "metadata": {
    "collapsed": true
   },
   "outputs": [],
   "source": [
    "#Made a list of the words from the embedder in order. \n",
    "model_embedder.wv.vocab\n",
    "\n",
    "#Make a list of the words in order of frequency\n",
    "word_list_in_order = []\n",
    "for i in range(len(model_embedder.wv.vocab)):\n",
    "    word_list_in_order.append(model_embedder.wv.index2word[i])"
   ]
  },
  {
   "cell_type": "code",
   "execution_count": 3,
   "metadata": {
    "collapsed": true
   },
   "outputs": [],
   "source": [
    "#Only used this to pull out the order of the patient/overlap/members in the proc list. \n",
    "\n",
    "# word_embeddings = pd.read_csv('PATH/Embedder_Converted.csv')"
   ]
  },
  {
   "cell_type": "code",
   "execution_count": null,
   "metadata": {
    "collapsed": true
   },
   "outputs": [],
   "source": [
    "word_embeddings.columns"
   ]
  },
  {
   "cell_type": "code",
   "execution_count": 5,
   "metadata": {
    "collapsed": true
   },
   "outputs": [],
   "source": [
    "#Make the DF of the order of pat/mem etc.\n",
    "# training_obs = word_embeddings[['De_ID_Patient_ID', 'Member_no_NPHI']]"
   ]
  },
  {
   "cell_type": "code",
   "execution_count": 6,
   "metadata": {
    "collapsed": true
   },
   "outputs": [],
   "source": [
    "# del word_embeddings"
   ]
  },
  {
   "cell_type": "code",
   "execution_count": 231,
   "metadata": {},
   "outputs": [
    {
     "name": "stderr",
     "output_type": "stream",
     "text": [
      "C:\\Users\\thomb\\Anaconda3\\lib\\site-packages\\IPython\\core\\interactiveshell.py:2698: DtypeWarning: Columns (12,13,24,26,28,29,30,31,32,33,43) have mixed types. Specify dtype option on import or set low_memory=False.\n",
      "  interactivity=interactivity, compiler=compiler, result=result)\n"
     ]
    }
   ],
   "source": [
    "#Bringing in the master files to ID the pat/members/overlap classification\n",
    "master_2016 = pd.read_csv('PATH/Master_All_M_C_AnnualizedPs_2016.csv')\n",
    "# master_2017 = pd.read_csv('PATH/Master_All_M_C_AnnualizedPs_2017.csv')"
   ]
  },
  {
   "cell_type": "code",
   "execution_count": 238,
   "metadata": {
    "collapsed": true
   },
   "outputs": [],
   "source": [
    "# master_2016.drop(master_2016.index[[72489, 75935, 81543, 82197, 82199, 83218]], inplace = True)"
   ]
  },
  {
   "cell_type": "markdown",
   "metadata": {},
   "source": [
    "Creating list of people that were just patients, just members, and overlap as I'll need to feed that to the NN. "
   ]
  },
  {
   "cell_type": "code",
   "execution_count": 239,
   "metadata": {},
   "outputs": [
    {
     "name": "stdout",
     "output_type": "stream",
     "text": [
      "77053\n",
      "75561\n",
      "15498\n",
      "15498\n"
     ]
    }
   ],
   "source": [
    "#Create lists of the IDs.\n",
    "overlap_IDs_2016 =  master_2016[master_2016['Overlap_created']==1]\n",
    "# overlap_IDs_2016.drop(overlap_IDs_2016.loc[[72489, 75935, 81543, 82197, 82199, 83218]], inplace = True)\n",
    "member_IDs_2016 =  master_2016[master_2016['M_flag']==1]\n",
    "patient_IDs_2016 =  master_2016[master_2016['P_flag']==1]\n",
    "\n",
    "\n",
    "member_IDs_2016_list = list(member_IDs_2016['Member_no_NPHI'])\n",
    "patient_IDs_2016_list = list(patient_IDs_2016['De_ID_Patient_ID'])\n",
    "overlap_IDs_2016_list = list(overlap_IDs_2016['Member_no_NPHI'])\n",
    "overlap_pat_IDs_2016_list = list(overlap_IDs_2016['De_ID_Patient_ID'])\n",
    "\n",
    "\n",
    "print(len(member_IDs_2016_list))\n",
    "print(len(patient_IDs_2016_list))\n",
    "print(len(overlap_IDs_2016_list))\n",
    "print(len(overlap_pat_IDs_2016_list))\n"
   ]
  },
  {
   "cell_type": "code",
   "execution_count": null,
   "metadata": {
    "collapsed": true
   },
   "outputs": [],
   "source": [
    "pd.Series(overlap_pat_IDs_2016_list).value_counts()\n",
    "overlap_IDs_2016[overlap_IDs_2016.De_ID_Patient_ID.isin(['922676','1669728','1435080', '569276', '1320192','1339060'])]\n",
    "#Eliminated output due to confidentiality. But this is a list of people who are both patients and members."
   ]
  },
  {
   "cell_type": "code",
   "execution_count": 12,
   "metadata": {},
   "outputs": [
    {
     "name": "stderr",
     "output_type": "stream",
     "text": [
      "C:\\Users\\thomb\\Anaconda3\\lib\\site-packages\\IPython\\core\\interactiveshell.py:2698: DtypeWarning: Columns (13) have mixed types. Specify dtype option on import or set low_memory=False.\n",
      "  interactivity=interactivity, compiler=compiler, result=result)\n"
     ]
    },
    {
     "name": "stdout",
     "output_type": "stream",
     "text": [
      "(2070270, 49)\n"
     ]
    },
    {
     "data": {
      "text/plain": [
       "(1532702, 49)"
      ]
     },
     "execution_count": 12,
     "metadata": {},
     "output_type": "execute_result"
    }
   ],
   "source": [
    "#begin the process of making the 2016 proc lists. This proc list is all procs annualized - not by claim. \n",
    "\n",
    "patcharge = pd.read_csv('PATH/patient_charge.csv')\n",
    "#Subset patcharge by year\n",
    "patcharge['Charge_From_Date'] = pd.to_datetime(patcharge['Charge_From_Date'])\n",
    "patcharge2016 = patcharge[patcharge['Charge_From_Date'].dt.year == 2016]\n",
    "patcharge2017 = patcharge[patcharge['Charge_From_Date'].dt.year == 2017]\n",
    "print(patcharge2016.shape)\n",
    "unique_pat_procs = list(patcharge['Procedure_Code'].unique())\n",
    "del patcharge\n",
    "\n",
    "pat_only_patient_charge = patcharge2016[patcharge2016['De_ID_Patient_ID'].isin(patient_IDs_2016_list)]\n",
    "patcharge2016[patcharge2016['De_ID_Patient_ID'].isin(patient_IDs_2016_list)].shape"
   ]
  },
  {
   "cell_type": "code",
   "execution_count": 174,
   "metadata": {},
   "outputs": [
    {
     "name": "stderr",
     "output_type": "stream",
     "text": [
      "C:\\Users\\thomb\\Anaconda3\\lib\\site-packages\\IPython\\core\\interactiveshell.py:2698: DtypeWarning: Columns (13) have mixed types. Specify dtype option on import or set low_memory=False.\n",
      "  interactivity=interactivity, compiler=compiler, result=result)\n"
     ]
    }
   ],
   "source": [
    "#Extract the patient charge information. \n",
    "patcharge = pd.read_csv('PATH/patient_charge.csv')\n",
    "#Subset patcharge by year\n",
    "patcharge['Charge_From_Date'] = pd.to_datetime(patcharge['Charge_From_Date'])\n",
    "patcharge2016 = patcharge[patcharge['Charge_From_Date'].dt.year == 2016]\n",
    "overlap_patient_charge = patcharge2016[patcharge2016['De_ID_Patient_ID'].isin(overlap_pat_IDs_2016_list)]\n",
    "\n",
    "overlap_pat_proc_list = []\n",
    "overlap_pat_id_list = []\n",
    "counter=0\n",
    "for pat_id, group in overlap_patient_charge.groupby('De_ID_Patient_ID'):\n",
    "    overlap_pat_id_list.append(pat_id)\n",
    "    overlap_pat_proc_list.append(group['Procedure_Code'].tolist())\n",
    "    \n",
    "overlap_pat_no_appt = [i for i in overlap_pat_IDs_2016_list if i not in overlap_pat_id_list]"
   ]
  },
  {
   "cell_type": "code",
   "execution_count": 184,
   "metadata": {
    "collapsed": true
   },
   "outputs": [],
   "source": [
    "temp_list=[]\n",
    "for j in overlap_proc_list:\n",
    "    temp = ([i for i in j if i in unique_pat_procs])\n",
    "    if len(temp)>0:\n",
    "        temp_list.append(temp)"
   ]
  },
  {
   "cell_type": "code",
   "execution_count": 198,
   "metadata": {},
   "outputs": [
    {
     "name": "stdout",
     "output_type": "stream",
     "text": [
      "15005\n",
      "14000\n",
      "1499\n",
      "15504\n",
      "15504\n",
      "15504\n",
      "499\n"
     ]
    }
   ],
   "source": [
    "# del patcharge, patcharge2016, overlap_patient_charge\n",
    "#Review length of various lists to make sure that we have matches. \n",
    "print(len(overlap_proc_list))\n",
    "# print(len(temp_list))\n",
    "print(len(overlap_pat_proc_list))\n",
    "print(len(overlap_pat_no_appt))\n",
    "print(len(overlap_pat_IDs_2016_list))\n",
    "print(len(overlap_IDs_2016_list))\n",
    "print(overlap_IDs_2016.shape[0])\n",
    "\n",
    "print(len(no_appt_overlap))"
   ]
  },
  {
   "cell_type": "markdown",
   "metadata": {},
   "source": [
    "# 961 overlap patients did not have appointments at MPHC but did have procs done that could have been at MPHC."
   ]
  },
  {
   "cell_type": "code",
   "execution_count": 13,
   "metadata": {
    "collapsed": true
   },
   "outputs": [],
   "source": [
    "#2016 patient proc list\n",
    "\n",
    "proc_list = []\n",
    "pat_id_list = []\n",
    "counter=0\n",
    "for pat_id, group in pat_only_patient_charge.groupby('De_ID_Patient_ID'):\n",
    "    pat_id_list.append(pat_id)\n",
    "    proc_list.append(group['Procedure_Code'].tolist())\n",
    "\n",
    "#This makes list of patient IDs that had no appointments.     \n",
    "no_appt = [i for i in patient_IDs_2016_list if i not in pat_id_list]\n"
   ]
  },
  {
   "cell_type": "code",
   "execution_count": 15,
   "metadata": {
    "collapsed": true
   },
   "outputs": [],
   "source": [
    "del patcharge2016\n",
    "del patcharge2017"
   ]
  },
  {
   "cell_type": "code",
   "execution_count": 16,
   "metadata": {},
   "outputs": [
    {
     "name": "stderr",
     "output_type": "stream",
     "text": [
      "C:\\Users\\thomb\\Anaconda3\\lib\\site-packages\\IPython\\core\\interactiveshell.py:2698: DtypeWarning: Columns (3,19,22,38,47,52) have mixed types. Specify dtype option on import or set low_memory=False.\n",
      "  interactivity=interactivity, compiler=compiler, result=result)\n"
     ]
    }
   ],
   "source": [
    "#Bring in the member claim files to get member/patient \n",
    "claims2016 = pd.read_csv('PATH/CleanerClaims_201601_201612.csv')\n",
    "claims2016['Procedure_code'].fillna('UNKNOWN', inplace=True)\n",
    "\n",
    "mem_only_claims2016 = claims2016[claims2016['Member_no_NPHI'].isin(member_IDs_2016_list)]\n",
    "overlap_claims2016 = claims2016[claims2016['Member_no_NPHI'].isin(overlap_IDs_2016_list)]"
   ]
  },
  {
   "cell_type": "code",
   "execution_count": 18,
   "metadata": {
    "collapsed": true
   },
   "outputs": [],
   "source": [
    "#Overlap procs by year - Do we want to do this by patient appointment too?\n",
    "overlap_proc_list = []\n",
    "overlap_id_list = []\n",
    "counter=0\n",
    "for ovr_id, group in overlap_claims2016.groupby('Member_no_NPHI'):\n",
    "    overlap_id_list.append(ovr_id)\n",
    "    overlap_proc_list.append(group['Procedure_code'].tolist())\n",
    "\n",
    "no_appt_overlap = [i for i in overlap_IDs_2016_list if i not in overlap_id_list]"
   ]
  },
  {
   "cell_type": "code",
   "execution_count": 19,
   "metadata": {
    "collapsed": true
   },
   "outputs": [],
   "source": [
    "#Member procs by year.\n",
    "\n",
    "mem_proc_list = []\n",
    "mem_id_list = []\n",
    "counter=0\n",
    "for mem_id, group in mem_only_claims2016.groupby('Member_no_NPHI'):\n",
    "    mem_id_list.append(mem_id)\n",
    "    mem_proc_list.append(group['Procedure_code'].tolist())\n",
    "    \n",
    "no_appt_members = [i for i in member_IDs_2016_list if i not in mem_id_list]"
   ]
  },
  {
   "cell_type": "code",
   "execution_count": 20,
   "metadata": {
    "collapsed": true
   },
   "outputs": [],
   "source": [
    "del overlap_claims2016\n",
    "del mem_only_claims2016\n",
    "del patient_IDs_2016 \n",
    "del pat_only_patient_charge"
   ]
  },
  {
   "cell_type": "code",
   "execution_count": 25,
   "metadata": {
    "collapsed": true
   },
   "outputs": [],
   "source": [
    "# Made this file in another worksheet. DF of the demographic data in order of the procs. \n",
    "ANN_data = pd.read_csv('PATH/training_obs_order2.csv')"
   ]
  },
  {
   "cell_type": "code",
   "execution_count": 26,
   "metadata": {
    "collapsed": true
   },
   "outputs": [],
   "source": [
    "#We will nee to remove a bunch of these observations based on what we think shouldnt be seen in training. \n",
    "\n",
    "all_proc_lists = proc_list+overlap_proc_list+mem_proc_list\n",
    "\n",
    "\n",
    "# all_embedder_list = patient_embedder_list+overlap_embedder_list+member_embedder_list\n",
    "# all_embedder_list = all_embedder_list+ no_appt_embedderlist + no_appt_overlap_embedder_list + no_appt_members_embedder_list"
   ]
  },
  {
   "cell_type": "code",
   "execution_count": 27,
   "metadata": {
    "collapsed": true
   },
   "outputs": [],
   "source": [
    "#Making empty lists to fill later. \n",
    "empty_list_of_lists = []\n",
    "for i in range(abs(len(all_proc_lists)-ANN_data.shape[0])):\n",
    "    empty_list_of_lists.append([])\n",
    "\n"
   ]
  },
  {
   "cell_type": "code",
   "execution_count": 28,
   "metadata": {},
   "outputs": [
    {
     "data": {
      "text/plain": [
       "59693"
      ]
     },
     "execution_count": 28,
     "metadata": {},
     "output_type": "execute_result"
    }
   ],
   "source": [
    "#Len of the patient proc list. \n",
    "len(proc_list)"
   ]
  },
  {
   "cell_type": "code",
   "execution_count": 29,
   "metadata": {},
   "outputs": [
    {
     "data": {
      "text/plain": [
       "144348"
      ]
     },
     "execution_count": 29,
     "metadata": {},
     "output_type": "execute_result"
    }
   ],
   "source": [
    "#len of everything. \n",
    "len(all_proc_lists)\n"
   ]
  },
  {
   "cell_type": "code",
   "execution_count": 30,
   "metadata": {},
   "outputs": [
    {
     "data": {
      "text/plain": [
       "1905"
      ]
     },
     "execution_count": 30,
     "metadata": {},
     "output_type": "execute_result"
    }
   ],
   "source": [
    "#Longest proc in everything - note we don't have the procs available outside of MPHC removed yet. \n",
    "\n",
    "len_list = []\n",
    "\n",
    "for i in all_proc_lists:\n",
    "    len_list.append(len(i))\n",
    "\n",
    "max(len_list)"
   ]
  },
  {
   "cell_type": "code",
   "execution_count": null,
   "metadata": {
    "collapsed": true
   },
   "outputs": [],
   "source": [
    "np.median(len_list)\n",
    "pd.Series(len_list).describe()"
   ]
  },
  {
   "cell_type": "code",
   "execution_count": null,
   "metadata": {
    "collapsed": true
   },
   "outputs": [],
   "source": [
    "# from random import shuffle\n",
    "# len(all_proc_lists)\n",
    "# shuffle(all_proc_lists[10])\n",
    "# all_proc_lists[10]\n",
    "\n"
   ]
  },
  {
   "cell_type": "code",
   "execution_count": null,
   "metadata": {
    "collapsed": true
   },
   "outputs": [],
   "source": [
    "# mem2017group = mem2017.groupby('de_id_claim_number')\n",
    "# list_of_procs_2017m = []\n",
    "# for index, group in mem2017group:\n",
    "#     X=group['Procedure_code'].tolist()\n",
    "#     X1 = [i for i in X if i in unique_pat_procs]\n",
    "#     if len(X1)>0:\n",
    "#         list_of_procs_2017m.append(X1)"
   ]
  },
  {
   "cell_type": "code",
   "execution_count": 31,
   "metadata": {
    "collapsed": true
   },
   "outputs": [],
   "source": [
    "#Make sure all of the codes we have are in the word embedder.\n",
    "pat_only_proc_list = []\n",
    "for proc_list in all_proc_lists:\n",
    "    X = [j for j in proc_list if j in word_list_in_order]\n",
    "    pat_only_proc_list.append(X)\n",
    "    "
   ]
  },
  {
   "cell_type": "code",
   "execution_count": 33,
   "metadata": {},
   "outputs": [
    {
     "data": {
      "text/plain": [
       "563"
      ]
     },
     "execution_count": 33,
     "metadata": {},
     "output_type": "execute_result"
    }
   ],
   "source": [
    "#Analyzing the longest proc list with external procs removed. -Much shorter. \n",
    "len_list1 = []\n",
    "\n",
    "for i in pat_only_proc_list:\n",
    "    len_list1.append(len(i))\n",
    "max(len_list1)"
   ]
  },
  {
   "cell_type": "code",
   "execution_count": 34,
   "metadata": {},
   "outputs": [
    {
     "data": {
      "text/plain": [
       "count    144348.000000\n",
       "mean         26.589312\n",
       "std          27.257252\n",
       "min           0.000000\n",
       "25%           9.000000\n",
       "50%          19.000000\n",
       "75%          35.000000\n",
       "max         563.000000\n",
       "dtype: float64"
      ]
     },
     "execution_count": 34,
     "metadata": {},
     "output_type": "execute_result"
    }
   ],
   "source": [
    "pd.Series(len_list1).describe()"
   ]
  },
  {
   "cell_type": "code",
   "execution_count": 35,
   "metadata": {
    "collapsed": true
   },
   "outputs": [],
   "source": [
    "#Shuffling the lists and limiting to length of 45 - Too long? This is a parameter that can be tweaked.\n",
    "\n",
    "from random import shuffle\n",
    "new_proc_list = []\n",
    "\n",
    "for i in pat_only_proc_list:\n",
    "    \n",
    "    length=len(i)\n",
    "    shuffle(i)\n",
    "    if length>45:\n",
    "        length=45\n",
    "    temp_list = []\n",
    "    for j in range(length):\n",
    "        temp_list.append(i[j])\n",
    "    new_proc_list.append(temp_list)\n",
    "    "
   ]
  },
  {
   "cell_type": "code",
   "execution_count": 36,
   "metadata": {},
   "outputs": [
    {
     "data": {
      "text/plain": [
       "45"
      ]
     },
     "execution_count": 36,
     "metadata": {},
     "output_type": "execute_result"
    }
   ],
   "source": [
    "#Checking the success of this list. \n",
    "\n",
    "len_list1 = []\n",
    "\n",
    "for i in new_proc_list:\n",
    "    len_list1.append(len(i))\n",
    "max(len_list1)"
   ]
  },
  {
   "cell_type": "code",
   "execution_count": 37,
   "metadata": {},
   "outputs": [
    {
     "name": "stderr",
     "output_type": "stream",
     "text": [
      "Using TensorFlow backend.\n"
     ]
    }
   ],
   "source": [
    "from keras.preprocessing.sequence import pad_sequences\n",
    "from keras.models import Sequential\n",
    "from keras.layers import Flatten, Dense\n",
    "from keras import preprocessing\n",
    "from keras.layers import GRU\n",
    "\n",
    "from keras.preprocessing.text import Tokenizer\n",
    "from keras.preprocessing.sequence import pad_sequences\n",
    "\n",
    "pd.options.display.max_rows = 500\n",
    "pd.options.display.max_columns = 1000"
   ]
  },
  {
   "cell_type": "code",
   "execution_count": null,
   "metadata": {
    "collapsed": true
   },
   "outputs": [],
   "source": [
    "# Save info above so I dont need to repeat this lengthy process. \n",
    "\n",
    "# training_obs.to_csv('PATH/training_obs_order.csv', index = False)\n",
    "# training_obs = pd.read_csv('PATH/training_obs_order.csv')"
   ]
  },
  {
   "cell_type": "code",
   "execution_count": null,
   "metadata": {
    "collapsed": true
   },
   "outputs": [],
   "source": [
    "#Reding data in in case I am starting over again here. \n",
    "\n",
    "# ANN_data = pd.read_csv('PATH/training_obs_order2.csv')"
   ]
  },
  {
   "cell_type": "code",
   "execution_count": null,
   "metadata": {
    "collapsed": true
   },
   "outputs": [],
   "source": [
    "# ANN_data.iloc[59690:59700, ]"
   ]
  },
  {
   "cell_type": "code",
   "execution_count": 38,
   "metadata": {
    "collapsed": true
   },
   "outputs": [],
   "source": [
    "#Adding these together to make a new all_proc_list that only has the MPHC primary care procs and empty lists for those people\n",
    "#who had no appointments. \n",
    "\n",
    "new_proc_list\n",
    "empty_list_of_lists\n",
    "\n",
    "all_proc_list = new_proc_list+empty_list_of_lists"
   ]
  },
  {
   "cell_type": "code",
   "execution_count": 39,
   "metadata": {
    "scrolled": true
   },
   "outputs": [
    {
     "data": {
      "text/plain": [
       "168118"
      ]
     },
     "execution_count": 39,
     "metadata": {},
     "output_type": "execute_result"
    }
   ],
   "source": [
    "#Need to convert this into the word_embedding index values. \n",
    "len(all_proc_list)"
   ]
  },
  {
   "cell_type": "code",
   "execution_count": 40,
   "metadata": {
    "collapsed": true
   },
   "outputs": [],
   "source": [
    "#Begin to make the RNN Data. Creating the dims for the embedder.\n",
    "maxlen=45\n",
    "model_embedder\n",
    "vector_dim = 8\n",
    "embedding_matrix = np.zeros((len(model_embedder.wv.vocab), vector_dim))\n",
    "for i in range(len(model_embedder.wv.vocab)):\n",
    "    embedding_vector = model_embedder.wv[model_embedder.wv.index2word[i]]\n",
    "    if embedding_vector is not None:\n",
    "        embedding_matrix[i] = embedding_vector"
   ]
  },
  {
   "cell_type": "code",
   "execution_count": 41,
   "metadata": {},
   "outputs": [
    {
     "name": "stdout",
     "output_type": "stream",
     "text": [
      "(807, 8)\n",
      "[  2.16021633   4.68074751  -0.6905697    2.53181434   1.34988928\n",
      "  11.64019108  -3.18898034  -5.42362928]\n"
     ]
    }
   ],
   "source": [
    "print(embedding_matrix.shape)\n",
    "print(model_embedder.wv.vectors[453])"
   ]
  },
  {
   "cell_type": "code",
   "execution_count": null,
   "metadata": {
    "collapsed": true
   },
   "outputs": [],
   "source": [
    "# model_embedder.wv.vocab\n",
    "\n",
    "# #Make a list of the words in order of frequency\n",
    "# word_list_in_order = []\n",
    "# for i in range(len(model_embedder.wv.vocab)):\n",
    "#     word_list_in_order.append(model_embedder.wv.index2word[i])"
   ]
  },
  {
   "cell_type": "code",
   "execution_count": 42,
   "metadata": {},
   "outputs": [
    {
     "name": "stdout",
     "output_type": "stream",
     "text": [
      "11603\n",
      "[  2.16021633   4.68074751  -0.6905697    2.53181434   1.34988928\n",
      "  11.64019108  -3.18898034  -5.42362928]\n"
     ]
    },
    {
     "name": "stderr",
     "output_type": "stream",
     "text": [
      "C:\\Users\\thomb\\Anaconda3\\lib\\site-packages\\ipykernel_launcher.py:3: DeprecationWarning: Call to deprecated `__getitem__` (Method will be removed in 4.0.0, use self.wv.__getitem__() instead).\n",
      "  This is separate from the ipykernel package so we can avoid doing imports until\n"
     ]
    }
   ],
   "source": [
    "#Convert the procs into sequences based on the index value of the proc in the word embedder. \n",
    "print(word_list_in_order[453])\n",
    "print(model_embedder['11603'])\n",
    "counter=1\n",
    "sequences = []\n",
    "for i in all_proc_list:\n",
    "    temp_list = []\n",
    "\n",
    "    for j in i:\n",
    "        temp_list.append(word_list_in_order.index(j))\n",
    "    sequences.append(temp_list)\n"
   ]
  },
  {
   "cell_type": "code",
   "execution_count": 164,
   "metadata": {
    "collapsed": true
   },
   "outputs": [],
   "source": [
    "#Saving data to for future access.\n",
    "\n",
    "# sequences_df = pd.DataFrame(sequences)\n",
    "# sequences_df.to_csv('D:/Martins Point Data/sequence_df.csv', index = False)\n",
    "# del sequences_df"
   ]
  },
  {
   "cell_type": "code",
   "execution_count": 43,
   "metadata": {},
   "outputs": [
    {
     "name": "stdout",
     "output_type": "stream",
     "text": [
      "[7, 1, 41, 8, 5, 13, 13, 0, 33, 1, 1, 33, 7, 0, 29, 7, 29, 2, 1, 7, 2, 29, 31, 33, 1, 1, 33, 1, 29, 143, 0, 7, 13, 5, 14, 33, 1, 1, 7, 7, 0, 1, 29, 0, 7]\n",
      "['85610', '99213', '82607', '84443', '85025', '80048', '80048', '99214', '99211', '99213', '99213', '99211', '85610', '99214', 'G0439', '85610', 'G0439', '36415', '99213', '85610', '36415', 'G0439', 'G0008', '99211', '99213', '99213', '99211', '99213', 'G0439', 'Q2038', '99214', '85610', '80048', '85025', '71020', '99211', '99213', '99213', '85610', '85610', '99214', '99213', 'G0439', '99214', '85610']\n"
     ]
    }
   ],
   "source": [
    "#Check the tokenization of the sequences. \n",
    "print(sequences[2])\n",
    "print(all_proc_list[2])"
   ]
  },
  {
   "cell_type": "code",
   "execution_count": 242,
   "metadata": {
    "collapsed": true
   },
   "outputs": [],
   "source": [
    "#function I updated from Steve Glover.\n",
    "def data_type_preprocessing(df,y, var_type = 'continuous',\n",
    "                            continuous_list = None, categorical_list = None, categorical_only= False, seed = None):\n",
    "    \n",
    "    from sklearn.preprocessing import MinMaxScaler\n",
    "    from sklearn.preprocessing import StandardScaler\n",
    "    from sklearn.cross_validation import train_test_split\n",
    "    ''' The following function will preprocess the data and create a train test split.\n",
    "    It will be able to handle dataframes that are all categorical, all continuous, or mixed.\n",
    "    it will create dummies for categorical variables. It will normalize continous variables.\n",
    "    it will also create a train test split. For mixed dataframes it will return the indexes of \n",
    "    the continuous and categorical variables.\n",
    "    \n",
    "    var_type\n",
    "    --------\n",
    "    var_type = 'continuous' (by default. Indicates only continous variables in the dataframe)\n",
    "    var_type = 'categorical' ('Indicates only a categorical dataframe)\n",
    "    var_type = 'Mixed ('Indicates both categorical and continous variables present. \n",
    "                        Requires both categorical list, and continuous lists.)\n",
    "    '''\n",
    "    \n",
    "    #get variable names from the function\n",
    "    #------------------------------------\n",
    "    \n",
    "    #get the y col\n",
    "    if len(y)==1:\n",
    "        y_col = y\n",
    "        y = np.array(df[y].astype(str))\n",
    "    elif len(y>1):\n",
    "        y_cols = np.array(df[y])\n",
    "    \n",
    "    #create the y array \n",
    "    y = np.array(df[y].astype(str))\n",
    "    \n",
    "    \"\"\" Determine the type variables we are working with and \n",
    "    process accrodingly\"\"\"\n",
    "    \n",
    "    if var_type == 'mixed':\n",
    "        #get categorical & continuous variables\n",
    "        cont = continuous_list\n",
    "        cat = categorical_list\n",
    "        \n",
    "        #subset continuous\n",
    "        cont_df = df[cont]\n",
    "        \n",
    "        #get the length of continuous and categorical to slice arrays\n",
    "        split_position = len(cont)\n",
    "        \n",
    "        #get dummies for categorical variables\n",
    "        cat_df = pd.get_dummies(df[cat].astype(str))\n",
    "    \n",
    "        #recreate the dataframe with dummies\n",
    "        X = pd.merge(cont_df,cat_df, how = 'left', left_index=True, right_index = True)\n",
    "        \n",
    "    elif var_type == 'categorical':\n",
    "        #create a dataframe of dummy variables that do not include y\n",
    "        dummy_list=[]\n",
    "        for i in categorical_list:\n",
    "            dummy_list.append(pd.get_dummies(lc[i]))\n",
    "        X=pd.concat(dummy_list, axis=1)\n",
    "        \n",
    "    elif var_type == 'continuous':\n",
    "        X = df[[col for col in df.columns if col not in y_col]]\n",
    "    \n",
    "    \n",
    "    # Get column names\n",
    "    col_names = X.columns\n",
    "    X = np.array(X)\n",
    "    \n",
    "    # Create the train test split\n",
    "    X_train, X_test, y_train, y_test = train_test_split(X, y, test_size=0.1, random_state = seed)\n",
    "    \n",
    "    \n",
    "    #preprocess continuous variables\n",
    "    scaler = MinMaxScaler()\n",
    "    X_train = scaler.fit_transform(X_train)\n",
    "    X_test = scaler.transform(X_test)\n",
    "        \n",
    "    if var_type == 'mixed':\n",
    "        #idenify the array index of categorical and continuous columns\n",
    "        cont_idx = [i for i in range(split_position)]\n",
    "        cat_idx = [i for i in range(split_position, col_names.shape[0])] \n",
    "        return X_train, X_test, y_train, y_test, col_names\n",
    "    else:\n",
    "        return X_train, X_test, y_train, y_test, col_names"
   ]
  },
  {
   "cell_type": "code",
   "execution_count": null,
   "metadata": {
    "collapsed": true
   },
   "outputs": [],
   "source": [
    "#Removed output. This is a sanity check on my work. \n",
    "for i in ANN_data.columns:\n",
    "    print(ANN_data[i].isnull().value_counts())"
   ]
  },
  {
   "cell_type": "code",
   "execution_count": 45,
   "metadata": {},
   "outputs": [
    {
     "data": {
      "text/plain": [
       "58.0"
      ]
     },
     "execution_count": 45,
     "metadata": {},
     "output_type": "execute_result"
    }
   ],
   "source": [
    "ANN_data[ANN_data['cal_Age'].isnull()==True]\n",
    "ANN_data['cal_Age'].median()"
   ]
  },
  {
   "cell_type": "code",
   "execution_count": 137,
   "metadata": {
    "collapsed": true
   },
   "outputs": [],
   "source": [
    "memindex=ANN_data[ANN_data.M_flag==1].index"
   ]
  },
  {
   "cell_type": "code",
   "execution_count": 143,
   "metadata": {},
   "outputs": [
    {
     "data": {
      "text/plain": [
       "[1, 0, 139, 19]"
      ]
     },
     "execution_count": 143,
     "metadata": {},
     "output_type": "execute_result"
    }
   ],
   "source": [
    "sequences[memindex[500]]"
   ]
  },
  {
   "cell_type": "code",
   "execution_count": 46,
   "metadata": {
    "collapsed": true
   },
   "outputs": [],
   "source": [
    "\n",
    "#Quick fix to the nulls.\n",
    "ANN_data['Overlap_created'].fillna(0, inplace = True)\n",
    "ANN_data['P_State'].fillna('ME', inplace = True)\n",
    "ANN_data['cal_Age'].fillna(58, inplace = True)\n",
    "ANN_data['cal_Gender'].fillna(0, inplace = True)\n",
    "ANN_data['money'].fillna(0, inplace = True)\n",
    "ANN_data['diag1'].fillna(0, inplace = True)\n",
    "ANN_data['diag2'].fillna(0, inplace = True)\n",
    "ANN_data['diag3'].fillna(0, inplace = True)\n",
    "ANN_data['diag4'].fillna(0, inplace = True)\n",
    "ANN_data['num_proc'].fillna(0, inplace = True)\n",
    "ANN_data['num_claims'].fillna(0, inplace = True)\n"
   ]
  },
  {
   "cell_type": "code",
   "execution_count": 47,
   "metadata": {
    "collapsed": true
   },
   "outputs": [],
   "source": [
    "#Assign categorical and continuous variables. \n",
    "\n",
    "ANN_data\n",
    "\n",
    "categorical = ['P_State', 'cal_Gender']\n",
    "continuous = ['cal_Age', 'money', 'diag1', 'diag2', 'diag3', 'diag4', 'num_proc', 'num_claims']\n",
    "y = ['P_flag', 'M_flag', 'Overlap_created']"
   ]
  },
  {
   "cell_type": "code",
   "execution_count": 48,
   "metadata": {
    "collapsed": true
   },
   "outputs": [],
   "source": [
    "#Assigning the three outputs for the neural network. \n",
    "y_df = ANN_data[['P_flag', 'M_flag', 'Overlap_created']]\n",
    "categorical_df = ANN_data[['P_State', 'cal_Gender']]\n",
    "continuous_df = ANN_data[['cal_Age', 'money', 'diag1', 'diag2', 'diag3', 'diag4', 'num_proc', 'num_claims']]"
   ]
  },
  {
   "cell_type": "code",
   "execution_count": 50,
   "metadata": {
    "collapsed": true
   },
   "outputs": [],
   "source": [
    "maxlen=45\n",
    "maxwords = 807 #Number of unique proc codes - remember, I reduced from the universe of proc codes to just ones that were observed\n",
    "#...to be performed on patients by the primary care facility.\n",
    "\n",
    "#Pad the inputs in case there aren't 45 proces for each person. Adds zeros to the array.\n",
    "data = pad_sequences(sequences, maxlen=maxlen)\n",
    "\n",
    "indices = np.arange(data.shape[0])\n",
    "np.random.shuffle(indices)\n",
    "\n",
    "train = indices[0:int(np.round(data.shape[0]*.8))]\n",
    "test = indices[int(np.round(data.shape[0]*.8)):]"
   ]
  },
  {
   "cell_type": "code",
   "execution_count": 51,
   "metadata": {
    "collapsed": true
   },
   "outputs": [],
   "source": [
    "\n",
    "#Create dummy variables for categorical. \n",
    "categorical_df = pd.get_dummies(categorical_df)\n"
   ]
  },
  {
   "cell_type": "code",
   "execution_count": 52,
   "metadata": {
    "collapsed": true
   },
   "outputs": [],
   "source": [
    "#Add everything back together. \n",
    "final_ANN_df = pd.merge(continuous_df,categorical_df, how = 'left', left_index=True, right_index = True)"
   ]
  },
  {
   "cell_type": "code",
   "execution_count": 53,
   "metadata": {
    "collapsed": true
   },
   "outputs": [],
   "source": [
    "#Min max scale the dataframe for the continuous variables. Could have done earlier too but opted to do it here.\n",
    "\n",
    "from sklearn.preprocessing import MinMaxScaler\n",
    "scaler = MinMaxScaler()\n",
    "final_ANN_df_scaled = scaler.fit_transform(final_ANN_df)\n"
   ]
  },
  {
   "cell_type": "code",
   "execution_count": 54,
   "metadata": {
    "collapsed": true
   },
   "outputs": [],
   "source": [
    "#Create train test split for the proceducre code data - to be run through the RNN. \n",
    "\n",
    "X_train_ANN = np.array(final_ANN_df_scaled[train,])\n",
    "X_test_ANN = np.array(final_ANN_df_scaled[test,])\n",
    "\n",
    "X_train_RNN = data[train]\n",
    "X_test_RNN = data[test]\n",
    "\n",
    "y_train = np.array(y_df.iloc[train,])\n",
    "y_test = np.array(y_df.loc[test,])"
   ]
  },
  {
   "cell_type": "code",
   "execution_count": 292,
   "metadata": {
    "collapsed": true
   },
   "outputs": [],
   "source": [
    "#ANN train test split - This is the dataset for the ANN half of the neural network. Used the above function. \n",
    "# X_train, X_test, y_train, y_test, col_names=data_type_preprocessing(ANN_data, var_type = 'mixed', categorical_list = categorical, continuous_list = continuous, y=y)"
   ]
  },
  {
   "cell_type": "code",
   "execution_count": 56,
   "metadata": {},
   "outputs": [
    {
     "name": "stdout",
     "output_type": "stream",
     "text": [
      "Train on 107595 samples, validate on 26899 samples\n",
      "Epoch 1/1\n",
      "107595/107595 [==============================] - 30s 276us/step - loss: 0.3870 - acc: 0.8317 - val_loss: 0.3552 - val_acc: 0.8517\n"
     ]
    }
   ],
   "source": [
    "#Prelim models  - test out the RNN data. \n",
    "maxlen=45\n",
    "maxwords = 807\n",
    "\n",
    "from keras.models import Sequential\n",
    "from keras.layers import Embedding, Flatten, Dense\n",
    "\n",
    "model = Sequential()\n",
    "model.add(Embedding(807, 8))\n",
    "model.layers[0].set_weights([embedding_matrix])\n",
    "model.layers[0].trainable = False\n",
    "\n",
    "model.add(GRU(32))\n",
    "model.add(Dense(3, activation='softmax'))\n",
    "\n",
    "model.compile(optimizer='rmsprop',\n",
    "              loss='binary_crossentropy',\n",
    "              metrics=['acc'])\n",
    "history = model.fit(X_train_RNN, y_train,\n",
    "                    epochs=1,\n",
    "                    batch_size=128,\n",
    "                    validation_split=0.2)"
   ]
  },
  {
   "cell_type": "code",
   "execution_count": null,
   "metadata": {
    "collapsed": true
   },
   "outputs": [],
   "source": [
    "#Set the ebedding layer to the pretrained matrix\n",
    "model.layers[0].set_weights([embedding_matrix])\n",
    "model.layers[0].trainable = False"
   ]
  },
  {
   "cell_type": "code",
   "execution_count": 57,
   "metadata": {},
   "outputs": [
    {
     "data": {
      "text/plain": [
       "70"
      ]
     },
     "execution_count": 57,
     "metadata": {},
     "output_type": "execute_result"
    }
   ],
   "source": [
    "X_train_ANN.shape[1]"
   ]
  },
  {
   "cell_type": "code",
   "execution_count": 58,
   "metadata": {
    "collapsed": true
   },
   "outputs": [],
   "source": [
    "import keras\n",
    "from keras.layers import Embedding, Flatten, Dense, Merge\n",
    "from keras import regularizers\n",
    "from keras.layers import Dense\n",
    "from keras.models import Sequential\n",
    "from keras.layers import Flatten\n",
    "from keras import regularizers\n",
    "from keras.layers import Dropout\n",
    "import matplotlib.pyplot as plt\n",
    "from keras.utils import to_categorical\n",
    "from sklearn.model_selection import GridSearchCV\n",
    "from keras.wrappers.scikit_learn import KerasClassifier, KerasRegressor\n",
    "from sklearn.model_selection import GridSearchCV\n",
    "from keras.wrappers.scikit_learn import KerasClassifier\n",
    "import matplotlib.pyplot as plt\n",
    "from keras.utils import to_categorical\n",
    "from keras.optimizers import SGD\n",
    "from keras.constraints import maxnorm\n",
    "from keras.optimizers import RMSprop\n",
    "from keras.layers.advanced_activations import LeakyReLU\n",
    "import keras\n",
    "%matplotlib inline\n",
    "from sklearn.metrics import r2_score\n",
    "from sklearn.metrics import mean_squared_error"
   ]
  },
  {
   "cell_type": "code",
   "execution_count": null,
   "metadata": {
    "collapsed": true
   },
   "outputs": [],
   "source": [
    "#This is where I create the model. Many different parameters that can be changed to optimize the model. Dont believe the listed ones\n",
    "#...were what I used for my final model. \n",
    "\n",
    "nodes = 10\n",
    "import keras\n",
    "from keras.layers import Embedding, Flatten, Dense, Merge\n",
    "from keras import regularizers\n",
    "\n",
    "#Define and change parameters for NN. \n",
    "inputs_ANN = X_train_ANN.shape[1], \n",
    "ANN_layers = 1,\n",
    "ANN_nodes = 10,\n",
    "ANN_do = [False, .25],\n",
    "lasso_p = .01,\n",
    "ridge_p = .01,\n",
    "layer_activation = 'relu', \n",
    "wgt_init = 'uniform', \n",
    "combined_layers = 1,\n",
    "combined_nodes = 10,\n",
    "combined_do = [False, .25],\n",
    "optimizer = 'adam',\n",
    "epochs = 10\n",
    "\n",
    "#Using a hybrid RNN and ANN to feed different types/shaped data through the model. \n",
    "\n",
    "#Create the RNN model for the proc embeddings. \n",
    "model_RNN = Sequential()\n",
    "model_RNN.add(Embedding(807, 8))\n",
    "#Set the weights for the word embeddings to those previously trained. \n",
    "model_RNN.layers[0].set_weights([embedding_matrix])\n",
    "model_RNN.layers[0].trainable = False\n",
    "model_RNN.add(GRU(32))\n",
    "model_RNN.add(Dense(10))\n",
    "\n",
    "\n",
    "#This is the ANN layer where we have demographic inputs. \n",
    "model_ANN = Sequential()\n",
    "\n",
    "model_ANN.add(Dense(10, input_shape=(X_train_ANN.shape[1],)))\n",
    "\n",
    "model_ANN.add(Dense(10, kernel_regularizer=regularizers.l1_l2(l1 = lasso_p, l2 = ridge_p), activation = 'relu', kernel_initializer='uniform'))\n",
    "#     model_ANN.add(Dense(10, kernel_regularizer=regularizers.l1_l2(l1 = .01)))\n",
    "model_ANN.add(Dense(10))\n",
    "\n",
    "\n",
    "#Here we're merging the model together. \n",
    "model = Sequential()\n",
    "model.add(Merge([model_RNN, model_ANN], mode='concat'))\n",
    "model.add(Dense(10, kernel_regularizer=regularizers.l1_l2(l1 = .01, l2 = .01)))\n",
    "model.add(Dense(3, activation = 'softmax'))\n",
    "model.compile(loss='categorical_crossentropy', optimizer='adam', metrics=['accuracy'])\n",
    "\n",
    "model_history = model.fit([X_train_RNN,X_train_ANN], y_train,\n",
    "                      batch_size=32,\n",
    "                      epochs=epochs,\n",
    "                      validation_data= ([X_test_RNN, X_test_ANN], y_test))"
   ]
  },
  {
   "cell_type": "code",
   "execution_count": null,
   "metadata": {
    "collapsed": true
   },
   "outputs": [],
   "source": [
    "from keras.layers import concatenate\n",
    "\n",
    "#Create the RNN model for the proc embeddings. \n",
    "model_RNN = Sequential()\n",
    "model_RNN.add(Embedding(807, 8))\n",
    "#Set the weights for the word embeddings to those previously trained. \n",
    "model_RNN.layers[0].set_weights([embedding_matrix])\n",
    "model_RNN.layers[0].trainable = False\n",
    "model_RNN.add(GRU(32))\n",
    "model_RNN.add(Dense(10))\n",
    "\n",
    "\n",
    "#This is the ANN layer where we have demographic inputs. \n",
    "model_ANN = Sequential()\n",
    "model_ANN.add(Dense(10, input_shape=(X_train_ANN.shape[1],)))\n",
    "model_ANN.add(Dense(10, kernel_regularizer=regularizers.l1_l2(l1 = lasso_p, l2 = ridge_p), activation = 'relu', kernel_initializer='uniform'))\n",
    "#     model_ANN.add(Dense(10, kernel_regularizer=regularizers.l1_l2(l1 = .01)))\n",
    "model_ANN.add(Dense(10))\n",
    "\n",
    "\n",
    "#Here we're merging the model together. \n",
    "model = Sequential()\n",
    "\n",
    "# model.add(Merge([model_RNN, model_ANN], mode='concat'))\n",
    "model.add(keras.layers.Merge([model_RNN, model_ANN], mode='concat'))\n",
    "model.add(Dense(10, kernel_regularizer=regularizers.l1_l2(l1 = .01, l2 = .01)))\n",
    "model.add(Dense(3, activation = 'softmax'))\n",
    "model.compile(loss='categorical_crossentropy', optimizer='adam', metrics=['accuracy'])\n",
    "\n",
    "model_history = model.fit([X_train_RNN,X_train_ANN], y_train,\n",
    "                      batch_size=32,\n",
    "                      epochs=epochs,\n",
    "                      validation_data= ([X_test_RNN, X_test_ANN], y_test))"
   ]
  },
  {
   "cell_type": "code",
   "execution_count": 94,
   "metadata": {
    "collapsed": true
   },
   "outputs": [],
   "source": [
    "\n",
    "\n",
    "def validation_plots(model_history):\n",
    "    import matplotlib.pyplot as plt\n",
    "    acc = model_history.history['acc']\n",
    "    val_acc = model_history.history['val_acc']\n",
    "    loss = model_history.history['loss']\n",
    "    val_loss = model_history.history['val_loss']\n",
    "\n",
    "    epochs = range(len(acc))\n",
    "\n",
    "    plt.plot(epochs, acc, 'bo', label='Training acc')\n",
    "    plt.plot(epochs, val_acc, 'b', label='Validation acc')\n",
    "    plt.title('Training and validation accuracy')\n",
    "    plt.legend()\n",
    "\n",
    "    plt.figure()\n",
    "\n",
    "    plt.plot(epochs, loss, 'bo', label='Training loss')\n",
    "    plt.plot(epochs, val_loss, 'b', label='Validation loss')\n",
    "    plt.title('Training and validation loss')\n",
    "    plt.legend()\n",
    "\n",
    "    plt.show()"
   ]
  },
  {
   "cell_type": "code",
   "execution_count": null,
   "metadata": {
    "collapsed": true
   },
   "outputs": [],
   "source": [
    "#Create a dataframe with result info from different parameters. \n",
    "for i, key in enumerate(model_dict.keys()):\n",
    "    l1_val =  l1[i]\n",
    "    l2_val =  l2[i]\n",
    "    do_val =  DO[i]\n",
    "    \n",
    "    #  Validation Accuracy\n",
    "    min_val = min(model_dict[key].history['val_acc'])\n",
    "    max_val = max(model_dict[key].history['val_acc'])\n",
    "    \n",
    "    dif = max_val - min_val\n",
    "    high_epoch = np.argmax(np.array(model_dict[key].history['val_acc']))\n",
    "\n",
    "    if i == 0:\n",
    "        vals = np.array([[l1_val, l2_val, do_val,min_val, max_val, dif, high_epoch]])\n",
    "    else:\n",
    "        vals = np.vstack((vals,np.array([[l1_val, l2_val, do_val,min_val, max_val, dif, high_epoch]])))\n",
    "    \n",
    "cols = ['l1', 'l2','DO','MIN_ACC','MAX_ACC','DIFF','HIGH_EPOCH']\n",
    "nn_metrics = pd.DataFrame(vals, columns = cols)\n",
    "nn_metrics"
   ]
  },
  {
   "cell_type": "code",
   "execution_count": 103,
   "metadata": {},
   "outputs": [
    {
     "data": {
      "image/png": "[encoded data removed]",
      "text/plain": [
       "<matplotlib.figure.Figure at 0x27434a0c978>"
      ]
     },
     "metadata": {},
     "output_type": "display_data"
    },
    {
     "name": "stdout",
     "output_type": "stream",
     "text": [
      "None\n",
      "---------------------------------------------------------------------------------------------\n"
     ]
    },
    {
     "data": {
      "image/png": "[encoded data removed]",
      "text/plain": [
       "<matplotlib.figure.Figure at 0x274348e95c0>"
      ]
     },
     "metadata": {},
     "output_type": "display_data"
    },
    {
     "name": "stdout",
     "output_type": "stream",
     "text": [
      "None\n",
      "---------------------------------------------------------------------------------------------\n",
      "Model, L2 =  0\n"
     ]
    },
    {
     "data": {
      "image/png": "[encoded data removed]",
      "text/plain": [
       "<matplotlib.figure.Figure at 0x274343d62e8>"
      ]
     },
     "metadata": {},
     "output_type": "display_data"
    },
    {
     "data": {
      "image/png": "[encoded data removed]",
      "text/plain": [
       "<matplotlib.figure.Figure at 0x274f53b27b8>"
      ]
     },
     "metadata": {},
     "output_type": "display_data"
    },
    {
     "name": "stdout",
     "output_type": "stream",
     "text": [
      "None\n",
      "---------------------------------------------------------------------------------------------\n",
      "Model, L2 =  0.001\n"
     ]
    },
    {
     "data": {
      "image/png": "[encoded data removed]",
      "text/plain": [
       "<matplotlib.figure.Figure at 0x274a6189b00>"
      ]
     },
     "metadata": {},
     "output_type": "display_data"
    },
    {
     "data": {
      "image/png": "[encoded data removed]",
      "text/plain": [
       "<matplotlib.figure.Figure at 0x274a65b2748>"
      ]
     },
     "metadata": {},
     "output_type": "display_data"
    },
    {
     "name": "stdout",
     "output_type": "stream",
     "text": [
      "None\n",
      "---------------------------------------------------------------------------------------------\n",
      "Model, L2 =  0.1\n"
     ]
    },
    {
     "data": {
      "image/png": "[encoded data removed]",
      "text/plain": [
       "<matplotlib.figure.Figure at 0x27434346be0>"
      ]
     },
     "metadata": {},
     "output_type": "display_data"
    },
    {
     "data": {
      "image/png": "[encoded data removed]",
      "text/plain": [
       "<matplotlib.figure.Figure at 0x274a5b0cb70>"
      ]
     },
     "metadata": {},
     "output_type": "display_data"
    },
    {
     "name": "stdout",
     "output_type": "stream",
     "text": [
      "None\n",
      "---------------------------------------------------------------------------------------------\n",
      "Model, L2 =  5\n"
     ]
    },
    {
     "data": {
      "image/png": "[encoded data removed]",
      "text/plain": [
       "<matplotlib.figure.Figure at 0x274f51e8ba8>"
      ]
     },
     "metadata": {},
     "output_type": "display_data"
    },
    {
     "data": {
      "image/png": "[encoded data removed]",
      "text/plain": [
       "<matplotlib.figure.Figure at 0x274f51e2128>"
      ]
     },
     "metadata": {},
     "output_type": "display_data"
    },
    {
     "name": "stdout",
     "output_type": "stream",
     "text": [
      "None\n"
     ]
    }
   ],
   "source": [
    "#Plot different results. \n",
    "\n",
    "from matplotlib import pyplot as plt\n",
    "# Validation Accuracy vs. L1 Rate\n",
    "plt.plot(nn_metrics.l2, nn_metrics.MAX_ACC, 'b',color = 'green')\n",
    "plt.plot(nn_metrics.l2, nn_metrics.MIN_ACC, linestyle ='dashed', color = 'red')\n",
    "plt.title('Validation Accuracy vs. L2 Penalty')\n",
    "plt.xlabel('L1')\n",
    "plt.ylabel('Accuracy')\n",
    "plt.legend()\n",
    "print(plt.show())\n",
    "\n",
    "print('---------------------------------------------------------------------------------------------')\n",
    "# Max Epoch \n",
    "plt.plot(nn_metrics.l2, nn_metrics.HIGH_EPOCH, linestyle ='dashed', color = 'blue')\n",
    "plt.title('# Optimal Epochs vs. L2 Penalty')\n",
    "plt.xlabel('L2')\n",
    "plt.ylabel('# of Epochs')\n",
    "plt.legend()\n",
    "print(plt.show())\n",
    "\n",
    "# Training Vs. Validation Activity\n",
    "for i, key in enumerate(model_dict.keys()):\n",
    "    print('---------------------------------------------------------------------------------------------')\n",
    "    print('Model, L2 = ',l2[i])\n",
    "    print(validation_plots(model_dict[key]))"
   ]
  },
  {
   "cell_type": "code",
   "execution_count": 112,
   "metadata": {},
   "outputs": [
    {
     "name": "stderr",
     "output_type": "stream",
     "text": [
      "C:\\Users\\thomb\\Anaconda3\\lib\\site-packages\\ipykernel_launcher.py:31: UserWarning: The `Merge` layer is deprecated and will be removed after 08/2017. Use instead layers from `keras.layers.merge`, e.g. `add`, `concatenate`, etc.\n"
     ]
    },
    {
     "name": "stdout",
     "output_type": "stream",
     "text": [
      "Model, L1 =  0\n",
      "Train on 134494 samples, validate on 33624 samples\n",
      "Epoch 1/20\n",
      "134494/134494 [==============================] - 136s 1ms/step - loss: 0.3822 - acc: 0.8533 - val_loss: 0.2860 - val_acc: 0.8909\n",
      "Epoch 2/20\n",
      "134494/134494 [==============================] - 126s 939us/step - loss: 0.2669 - acc: 0.8994 - val_loss: 0.2496 - val_acc: 0.9025\n",
      "Epoch 3/20\n",
      "134494/134494 [==============================] - 119s 882us/step - loss: 0.2431 - acc: 0.9098 - val_loss: 0.2279 - val_acc: 0.9146\n",
      "Epoch 4/20\n",
      "134494/134494 [==============================] - 128s 953us/step - loss: 0.2267 - acc: 0.9176 - val_loss: 0.2294 - val_acc: 0.9152\n",
      "Epoch 5/20\n",
      "134494/134494 [==============================] - 132s 983us/step - loss: 0.2161 - acc: 0.9231 - val_loss: 0.2215 - val_acc: 0.9198\n",
      "Epoch 6/20\n",
      "134494/134494 [==============================] - 127s 945us/step - loss: 0.2084 - acc: 0.9265 - val_loss: 0.2092 - val_acc: 0.9233\n",
      "Epoch 7/20\n",
      "134494/134494 [==============================] - 132s 982us/step - loss: 0.2014 - acc: 0.9290 - val_loss: 0.2078 - val_acc: 0.9249\n",
      "Epoch 8/20\n",
      "134494/134494 [==============================] - 138s 1ms/step - loss: 0.1978 - acc: 0.9307 - val_loss: 0.1979 - val_acc: 0.9304\n",
      "Epoch 9/20\n",
      "134494/134494 [==============================] - 141s 1ms/step - loss: 0.1941 - acc: 0.9321 - val_loss: 0.1976 - val_acc: 0.9287\n",
      "Epoch 10/20\n",
      "134494/134494 [==============================] - 140s 1ms/step - loss: 0.1910 - acc: 0.9332 - val_loss: 0.1973 - val_acc: 0.9300\n",
      "Epoch 11/20\n",
      "134494/134494 [==============================] - 139s 1ms/step - loss: 0.1888 - acc: 0.9335 - val_loss: 0.1948 - val_acc: 0.9305\n",
      "Epoch 12/20\n",
      "134494/134494 [==============================] - 145s 1ms/step - loss: 0.1861 - acc: 0.9342 - val_loss: 0.1917 - val_acc: 0.9312\n",
      "Epoch 13/20\n",
      "134494/134494 [==============================] - 144s 1ms/step - loss: 0.1836 - acc: 0.9349 - val_loss: 0.1886 - val_acc: 0.9331\n",
      "Epoch 14/20\n",
      "134494/134494 [==============================] - 145s 1ms/step - loss: 0.1829 - acc: 0.9354 - val_loss: 0.1903 - val_acc: 0.9320\n",
      "Epoch 15/20\n",
      "134494/134494 [==============================] - 145s 1ms/step - loss: 0.1815 - acc: 0.9358 - val_loss: 0.1876 - val_acc: 0.9319\n",
      "Epoch 16/20\n",
      "134494/134494 [==============================] - 147s 1ms/step - loss: 0.1804 - acc: 0.9365 - val_loss: 0.2057 - val_acc: 0.9274\n",
      "Epoch 17/20\n",
      "134494/134494 [==============================] - 144s 1ms/step - loss: 0.1800 - acc: 0.9362 - val_loss: 0.1871 - val_acc: 0.9326\n",
      "Epoch 18/20\n",
      "134494/134494 [==============================] - 149s 1ms/step - loss: 0.1782 - acc: 0.9364 - val_loss: 0.1870 - val_acc: 0.9325\n",
      "Epoch 19/20\n",
      "134494/134494 [==============================] - 134s 999us/step - loss: 0.1774 - acc: 0.9366 - val_loss: 0.1905 - val_acc: 0.9320\n",
      "Epoch 20/20\n",
      "134494/134494 [==============================] - 121s 896us/step - loss: 0.1758 - acc: 0.9372 - val_loss: 0.1858 - val_acc: 0.9339\n"
     ]
    },
    {
     "data": {
      "image/png": "[encoded data removed]",
      "text/plain": [
       "<matplotlib.figure.Figure at 0x27491054748>"
      ]
     },
     "metadata": {},
     "output_type": "display_data"
    },
    {
     "data": {
      "image/png": "[encoded data removed]",
      "text/plain": [
       "<matplotlib.figure.Figure at 0x27490cdbcf8>"
      ]
     },
     "metadata": {},
     "output_type": "display_data"
    },
    {
     "name": "stdout",
     "output_type": "stream",
     "text": [
      "\n",
      "\n",
      "\n"
     ]
    }
   ],
   "source": [
    "#Running model with different method of combining the ANN and RNN layers.\n",
    "\n",
    "model_dict = {}\n",
    "model_list = []\n",
    "epochs  = 20\n",
    "\n",
    "#Regularizaton parameters. \n",
    "lasso_p = 0\n",
    "ridge_p = 0\n",
    "do = .4\n",
    "\n",
    "#Create the RNN model for the proc embeddings. \n",
    "model_RNN = Sequential()\n",
    "model_RNN.add(Embedding(807, 8))\n",
    "#Set the weights for the word embeddings to those previously trained. \n",
    "model_RNN.layers[0].set_weights([embedding_matrix])\n",
    "model_RNN.layers[0].trainable = False\n",
    "model_RNN.add(GRU(32, activation = 'relu'))\n",
    "model_RNN.add(Dense(10))\n",
    "\n",
    "\n",
    "#This is the ANN layer where we have demographic inputs. \n",
    "model_ANN = Sequential()\n",
    "\n",
    "model_ANN.add(Dense(10, input_shape=(X_train_ANN.shape[1],)))\n",
    "model_ANN.add(Dropout(do))\n",
    "model_ANN.add(Dense(10, kernel_regularizer=regularizers.l1_l2(l1 = lasso_p, l2 = ridge_p), activation = 'relu', kernel_initializer='uniform'))\n",
    "#     model_ANN.add(Dense(10, kernel_regularizer=regularizers.l1_l2(l1 = .01)))\n",
    "model_ANN.add(Dense(10))\n",
    "\n",
    "\n",
    "#Here we're merging the model together. \n",
    "model = Sequential()\n",
    "\n",
    "model.add(Merge([model_RNN, model_ANN], mode='concat'))\n",
    "\n",
    "\n",
    "model.add(Dense(20, kernel_regularizer=regularizers.l1_l2(l1 = lasso_p, l2 = ridge_p), activation = 'relu'))\n",
    "model_ANN.add(Dropout(do))\n",
    "model.add(Dense(3, activation = 'softmax'))\n",
    "model.compile(loss='categorical_crossentropy', optimizer='adam', metrics=['accuracy'])\n",
    "\n",
    "\n",
    "# print('Model, L1 = ', value)\n",
    "model_dict['model' + str(i)] = model.fit([X_train_RNN,X_train_ANN], y_train,\n",
    "                      batch_size=32,\n",
    "                      epochs=epochs,\n",
    "                      validation_data= ([X_test_RNN, X_test_ANN], y_test))\n",
    "\n",
    "\n",
    "\n",
    "model_list.append('model'+str(i))\n",
    "\n",
    "validation_plots(model_dict['model' + str(i)])\n",
    "print('\\n\\n')"
   ]
  },
  {
   "cell_type": "code",
   "execution_count": 118,
   "metadata": {
    "collapsed": true
   },
   "outputs": [],
   "source": [
    "#Compare predictions and actuals\n",
    "y_preds =model.predict_classes([X_test_RNN, X_test_ANN])"
   ]
  },
  {
   "cell_type": "code",
   "execution_count": 128,
   "metadata": {
    "collapsed": true
   },
   "outputs": [],
   "source": [
    "# Make a confusion matrix.\n",
    "y_test_conf = []\n",
    "for i in y_test:\n",
    "    if i[0]==1:\n",
    "        y_test_conf.append(0)\n",
    "    elif i[1]==1:\n",
    "        y_test_conf.append(1)\n",
    "    elif i[2]==1:\n",
    "        y_test_conf.append(2)"
   ]
  },
  {
   "cell_type": "code",
   "execution_count": 131,
   "metadata": {},
   "outputs": [
    {
     "data": {
      "text/plain": [
       "(33624,)"
      ]
     },
     "execution_count": 131,
     "metadata": {},
     "output_type": "execute_result"
    }
   ],
   "source": [
    "type(y_preds)\n",
    "np.array(y_test_conf).shape"
   ]
  },
  {
   "cell_type": "code",
   "execution_count": 132,
   "metadata": {},
   "outputs": [
    {
     "data": {
      "text/plain": [
       "array([[14934,   103,    10],\n",
       "       [  164, 15132,   172],\n",
       "       [  147,  1626,  1336]], dtype=int64)"
      ]
     },
     "execution_count": 132,
     "metadata": {},
     "output_type": "execute_result"
    }
   ],
   "source": [
    "#patient - member - overlap\n",
    "\n",
    "from sklearn.metrics import confusion_matrix\n",
    "confusion_matrix(np.array(y_test_conf), y_preds)"
   ]
  },
  {
   "cell_type": "code",
   "execution_count": 134,
   "metadata": {},
   "outputs": [
    {
     "data": {
      "text/plain": [
       "3109"
      ]
     },
     "execution_count": 134,
     "metadata": {},
     "output_type": "execute_result"
    }
   ],
   "source": [
    "all_overlap = []\n",
    "for i in y_test_conf:\n",
    "    if i == 2:\n",
    "        all_overlap.append(1)\n",
    "sum(all_overlap)"
   ]
  }
 ],
 "metadata": {
  "kernelspec": {
   "display_name": "Python 3",
   "language": "python",
   "name": "python3"
  },
  "language_info": {
   "codemirror_mode": {
    "name": "ipython",
    "version": 3
   },
   "file_extension": ".py",
   "mimetype": "text/x-python",
   "name": "python",
   "nbconvert_exporter": "python",
   "pygments_lexer": "ipython3",
   "version": "3.6.2"
  }
 },
 "nbformat": 4,
 "nbformat_minor": 2
}
